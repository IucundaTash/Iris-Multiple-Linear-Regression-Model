{
 "cells": [
  {
   "cell_type": "code",
   "execution_count": 1,
   "id": "1c783315",
   "metadata": {},
   "outputs": [
    {
     "data": {
      "text/html": [
       "<div>\n",
       "<style scoped>\n",
       "    .dataframe tbody tr th:only-of-type {\n",
       "        vertical-align: middle;\n",
       "    }\n",
       "\n",
       "    .dataframe tbody tr th {\n",
       "        vertical-align: top;\n",
       "    }\n",
       "\n",
       "    .dataframe thead th {\n",
       "        text-align: right;\n",
       "    }\n",
       "</style>\n",
       "<table border=\"1\" class=\"dataframe\">\n",
       "  <thead>\n",
       "    <tr style=\"text-align: right;\">\n",
       "      <th></th>\n",
       "      <th>Id</th>\n",
       "      <th>SepalLengthCm</th>\n",
       "      <th>SepalWidthCm</th>\n",
       "      <th>PetalLengthCm</th>\n",
       "      <th>PetalWidthCm</th>\n",
       "      <th>Species</th>\n",
       "    </tr>\n",
       "  </thead>\n",
       "  <tbody>\n",
       "    <tr>\n",
       "      <th>0</th>\n",
       "      <td>1</td>\n",
       "      <td>5.1</td>\n",
       "      <td>3.5</td>\n",
       "      <td>1.4</td>\n",
       "      <td>0.2</td>\n",
       "      <td>Iris-setosa</td>\n",
       "    </tr>\n",
       "    <tr>\n",
       "      <th>1</th>\n",
       "      <td>2</td>\n",
       "      <td>4.9</td>\n",
       "      <td>3.0</td>\n",
       "      <td>1.4</td>\n",
       "      <td>0.2</td>\n",
       "      <td>Iris-setosa</td>\n",
       "    </tr>\n",
       "    <tr>\n",
       "      <th>2</th>\n",
       "      <td>3</td>\n",
       "      <td>4.7</td>\n",
       "      <td>3.2</td>\n",
       "      <td>1.3</td>\n",
       "      <td>0.2</td>\n",
       "      <td>Iris-setosa</td>\n",
       "    </tr>\n",
       "    <tr>\n",
       "      <th>3</th>\n",
       "      <td>4</td>\n",
       "      <td>4.6</td>\n",
       "      <td>3.1</td>\n",
       "      <td>1.5</td>\n",
       "      <td>0.2</td>\n",
       "      <td>Iris-setosa</td>\n",
       "    </tr>\n",
       "    <tr>\n",
       "      <th>4</th>\n",
       "      <td>5</td>\n",
       "      <td>5.0</td>\n",
       "      <td>3.6</td>\n",
       "      <td>1.4</td>\n",
       "      <td>0.2</td>\n",
       "      <td>Iris-setosa</td>\n",
       "    </tr>\n",
       "  </tbody>\n",
       "</table>\n",
       "</div>"
      ],
      "text/plain": [
       "   Id  SepalLengthCm  SepalWidthCm  PetalLengthCm  PetalWidthCm      Species\n",
       "0   1            5.1           3.5            1.4           0.2  Iris-setosa\n",
       "1   2            4.9           3.0            1.4           0.2  Iris-setosa\n",
       "2   3            4.7           3.2            1.3           0.2  Iris-setosa\n",
       "3   4            4.6           3.1            1.5           0.2  Iris-setosa\n",
       "4   5            5.0           3.6            1.4           0.2  Iris-setosa"
      ]
     },
     "execution_count": 1,
     "metadata": {},
     "output_type": "execute_result"
    }
   ],
   "source": [
    "# Import the required packages\n",
    "import numpy as np\n",
    "import pandas as pd\n",
    "import matplotlib.pyplot as plt\n",
    "\n",
    "# From the linear_model class in\n",
    "# the sklearn module import LinearRegression\n",
    "# function.\n",
    "from sklearn.linear_model import LinearRegression\n",
    "\n",
    "# import the train_test_split functionality\n",
    "# in order to split the dataframe into\n",
    "# training and test sets\n",
    "from sklearn.model_selection import train_test_split\n",
    "\n",
    "# import mean_squared_error and math in order \n",
    "# to compute the Root Mean Squared Error\n",
    "from sklearn.metrics import mean_squared_error\n",
    "import math\n",
    "%matplotlib inline\n",
    "\n",
    "# Load the dataset into a DataFrame\n",
    "iris_df = pd.read_csv('Iris.csv')\n",
    "\n",
    "# view the first 5 row of the DataFrame\n",
    "iris_df.head()"
   ]
  },
  {
   "cell_type": "code",
   "execution_count": 2,
   "id": "f1fd97f1",
   "metadata": {},
   "outputs": [
    {
     "data": {
      "text/plain": [
       "(150, 6)"
      ]
     },
     "execution_count": 2,
     "metadata": {},
     "output_type": "execute_result"
    }
   ],
   "source": [
    "# view the shape of the DataFrame\n",
    "iris_df.shape"
   ]
  },
  {
   "cell_type": "markdown",
   "id": "c23686e9",
   "metadata": {},
   "source": [
    "The DataFrame contains 150 records and 6 fields. Let's view the dtypes contained in each field."
   ]
  },
  {
   "cell_type": "code",
   "execution_count": 3,
   "id": "34263da5",
   "metadata": {},
   "outputs": [
    {
     "name": "stdout",
     "output_type": "stream",
     "text": [
      "<class 'pandas.core.frame.DataFrame'>\n",
      "RangeIndex: 150 entries, 0 to 149\n",
      "Data columns (total 6 columns):\n",
      " #   Column         Non-Null Count  Dtype  \n",
      "---  ------         --------------  -----  \n",
      " 0   Id             150 non-null    int64  \n",
      " 1   SepalLengthCm  150 non-null    float64\n",
      " 2   SepalWidthCm   150 non-null    float64\n",
      " 3   PetalLengthCm  150 non-null    float64\n",
      " 4   PetalWidthCm   150 non-null    float64\n",
      " 5   Species        150 non-null    object \n",
      "dtypes: float64(4), int64(1), object(1)\n",
      "memory usage: 7.2+ KB\n"
     ]
    }
   ],
   "source": [
    "# Use info() to view the dtypes of each field\n",
    "iris_df.info()"
   ]
  },
  {
   "cell_type": "code",
   "execution_count": 4,
   "id": "d6e1b5c5",
   "metadata": {},
   "outputs": [
    {
     "data": {
      "text/plain": [
       "array(['Iris-setosa', 'Iris-versicolor', 'Iris-virginica'], dtype=object)"
      ]
     },
     "execution_count": 4,
     "metadata": {},
     "output_type": "execute_result"
    }
   ],
   "source": [
    "# View the unique species contained in the \n",
    "# DataFrame by using the unique() function.\n",
    "iris_df['Species'].unique()"
   ]
  },
  {
   "cell_type": "markdown",
   "id": "912bebb0",
   "metadata": {},
   "source": [
    "The DataFrame contains 3 different species of the Iris flower, the length and width of the sepals and petals of each flower.\n",
    "The independent variables are SepalLengthcm, SepalWidthcm, PetalLengthcm and PetalWidthcm, these fields will be our input values. The dependent variable is  Species beacuase it is explianed by the lenght and width of the sepals and petals of a flower."
   ]
  },
  {
   "cell_type": "code",
   "execution_count": 5,
   "id": "9b483478",
   "metadata": {},
   "outputs": [],
   "source": [
    "# Assign the independent variables to x\n",
    "# We do not need the values contained in \n",
    "# the Id and Species columns.\n",
    "# We will have 4 variables for multiple regression.\n",
    "X = iris_df.drop(['Id', 'Species'], axis =1).values\n",
    "\n",
    "# Assign the dependent variable to y\n",
    "# Assign 'Species' to y\n",
    "y = iris_df['Species'].values"
   ]
  },
  {
   "cell_type": "code",
   "execution_count": 21,
   "id": "24e22610",
   "metadata": {},
   "outputs": [
    {
     "data": {
      "text/plain": [
       "array([0, 0, 0, 0, 0, 0, 0, 0, 0, 0, 0, 0, 0, 0, 0, 0, 0, 0, 0, 0, 0, 0,\n",
       "       0, 0, 0, 0, 0, 0, 0, 0, 0, 0, 0, 0, 0, 0, 0, 0, 0, 0, 0, 0, 0, 0,\n",
       "       0, 0, 0, 0, 0, 0, 1, 1, 1, 1, 1, 1, 1, 1, 1, 1, 1, 1, 1, 1, 1, 1,\n",
       "       1, 1, 1, 1, 1, 1, 1, 1, 1, 1, 1, 1, 1, 1, 1, 1, 1, 1, 1, 1, 1, 1,\n",
       "       1, 1, 1, 1, 1, 1, 1, 1, 1, 1, 1, 1, 2, 2, 2, 2, 2, 2, 2, 2, 2, 2,\n",
       "       2, 2, 2, 2, 2, 2, 2, 2, 2, 2, 2, 2, 2, 2, 2, 2, 2, 2, 2, 2, 2, 2,\n",
       "       2, 2, 2, 2, 2, 2, 2, 2, 2, 2, 2, 2, 2, 2, 2, 2, 2, 2], dtype=int64)"
      ]
     },
     "execution_count": 21,
     "metadata": {},
     "output_type": "execute_result"
    }
   ],
   "source": [
    "# convert the species from strings to numbers\n",
    "# See, https://www.sharpsightlabs.com/blog/numpy-unique/\n",
    "# I want to operate on the y array\n",
    "# If return_inverse is True \n",
    "# np.unique will return the indices of \n",
    "# all the values in the array\n",
    "\n",
    "# np.unique outputs two arrays\n",
    "# one with the unique values\n",
    "# and the other with the indices of each \n",
    "# value in the array.\n",
    "# We want to extract the indices of each value\n",
    "# and assign it to y.\n",
    "y_new = np.unique(y, return_inverse= True)[1]\n",
    "y_new"
   ]
  },
  {
   "cell_type": "code",
   "execution_count": 7,
   "id": "a3f64a85",
   "metadata": {},
   "outputs": [
    {
     "data": {
      "text/plain": [
       "array([  0,  50, 100], dtype=int64)"
      ]
     },
     "execution_count": 7,
     "metadata": {},
     "output_type": "execute_result"
    }
   ],
   "source": [
    "# Split the DataFrame into testing and trainint set\n",
    "# The test-size is 0.2, 20% of the data will be used\n",
    "# as test samples\n",
    "\n",
    "# The y-new array is ordered such that we have one species\n",
    "# from index 0 to 49, the next at 50 to 99 and the last one\n",
    "# from 100 to 150.\n",
    "y_ordered = np.unique(y, return_index=True)[1]\n",
    "y_ordered\n"
   ]
  },
  {
   "cell_type": "code",
   "execution_count": 8,
   "id": "f41dea43",
   "metadata": {},
   "outputs": [],
   "source": [
    "# Therefore set shuffle= True to distribute the labels randomly\n",
    "# between the training and testing sets\n",
    "\n",
    "# Use the stratify parameter in order to have, \n",
    "# as close as possible, the same proportion \n",
    "# of labels represented in both\n",
    "# the training and test set.\n",
    "X_train,X_test,y_train,y_test = train_test_split(X, y_new, test_size = 0.2, shuffle= True, stratify = y)"
   ]
  },
  {
   "cell_type": "code",
   "execution_count": 9,
   "id": "e6c396e3",
   "metadata": {},
   "outputs": [
    {
     "name": "stdout",
     "output_type": "stream",
     "text": [
      "[1 0 0 2 2 2 1 0 2 2 2 0 0 2 0 0 0 1 2 2 0 2 2 0 1 0 2 1 0 2 0 1 1 2 2 1 0\n",
      " 1 2 0 1 2 1 1 1 0 0 0 0 2 0 2 2 2 2 1 1 1 2 2 2 1 1 0 1 0 0 2 1 0 1 2 0 1\n",
      " 1 2 1 2 0 0 1 2 1 1 2 2 1 1 0 0 0 2 0 1 0 1 2 1 2 1 2 1 1 0 0 0 0 1 2 1 2\n",
      " 0 0 1 1 2 0 0 1 2]\n",
      "[1 0 1 0 0 1 2 1 0 2 0 2 0 2 0 2 1 1 0 2 2 2 1 2 1 1 0 0 1 2]\n"
     ]
    }
   ],
   "source": [
    "# return the trained and test test of \n",
    "# the y variable.\n",
    "print(y_train)\n",
    "print(y_test)"
   ]
  },
  {
   "cell_type": "markdown",
   "id": "af6f3f66",
   "metadata": {},
   "source": [
    "It is important to have 'X_train, X_test,y_train, y_test' in the right order so that y_train and y_test are assigned the correct array after implementing the train_test_split method. The two arrays returned above indicate that the data in the trained set is represented in a proportion  in the test set."
   ]
  },
  {
   "cell_type": "code",
   "execution_count": 10,
   "id": "e621dddf",
   "metadata": {},
   "outputs": [],
   "source": [
    "# Call the LinearRegression() method from Scikit-Learn\n",
    "linear_model = LinearRegression()"
   ]
  },
  {
   "cell_type": "code",
   "execution_count": 11,
   "id": "32afa471",
   "metadata": {},
   "outputs": [
    {
     "data": {
      "text/plain": [
       "LinearRegression()"
      ]
     },
     "execution_count": 11,
     "metadata": {},
     "output_type": "execute_result"
    }
   ],
   "source": [
    "# Fit the model using the training data\n",
    "linear_model.fit(X_train, y_train)"
   ]
  },
  {
   "cell_type": "code",
   "execution_count": 12,
   "id": "da71d348",
   "metadata": {},
   "outputs": [
    {
     "name": "stdout",
     "output_type": "stream",
     "text": [
      "Intercept: \n",
      " 0.11389917525441529\n"
     ]
    }
   ],
   "source": [
    "# Using model.intercept_\n",
    "# We can obtain the y-intercept.\n",
    "# The intercept is the value of the dependent variable\n",
    "# when all independent variables are set to zero.\n",
    "# See, https://towardsdatascience.com/linear-regression-in-python-9a1f5f000606\n",
    "print('Intercept: \\n',linear_model.intercept_)"
   ]
  },
  {
   "cell_type": "code",
   "execution_count": 13,
   "id": "084357f8",
   "metadata": {},
   "outputs": [
    {
     "name": "stdout",
     "output_type": "stream",
     "text": [
      "Coefficients: \n",
      " [-0.07474882 -0.06508355  0.20898851  0.60411355]\n"
     ]
    }
   ],
   "source": [
    "# Using model.coef_\n",
    "# we can obtain the coeficients of our independent\n",
    "# variables. \n",
    "print('Coefficients: \\n', linear_model.coef_)"
   ]
  },
  {
   "cell_type": "markdown",
   "id": "fabd6394",
   "metadata": {},
   "source": [
    "The array returned above contains coefficients for each of the 4 variables in the same order that we assigned the fields for our X variable above. Meaning -0.0785 is the coefficient for SepalLengthcm, -0.0698 is the coeficient for SepalWidthcm, 0.2006 for PetalLengthcm, 0.6426 for PetalWidthcm. The coefficients for sepal length and width have a negative impact on determining the species of a flower. The coefficients for petal length and width have a positive weighting on determining the species of a flower."
   ]
  },
  {
   "cell_type": "code",
   "execution_count": 14,
   "id": "b439f981",
   "metadata": {},
   "outputs": [
    {
     "data": {
      "text/plain": [
       "array([ 1.2102939 , -0.08267213,  1.17439017, -0.04340853, -0.08023492,\n",
       "        1.0052614 ,  2.03153128,  0.86146177,  0.00855017,  1.80116965,\n",
       "       -0.08023492,  1.94717156, -0.02129425,  1.85817935, -0.0109749 ,\n",
       "        1.66962241,  1.14779748,  0.88520508,  0.17524173,  1.69383301,\n",
       "        1.71197938,  1.55236243,  1.01217702,  1.7182876 ,  1.32658736,\n",
       "        1.16218798, -0.03492534, -0.16774312,  1.09526827,  1.67303105])"
      ]
     },
     "execution_count": 14,
     "metadata": {},
     "output_type": "execute_result"
    }
   ],
   "source": [
    "# Using the predict() method\n",
    "# we can predict the y values based on \n",
    "# our model. The predict() method will return\n",
    "# predictions of y given the test data of \n",
    "# our X variables\n",
    "y_pred = linear_model.predict(X_test)\n",
    "y_pred"
   ]
  },
  {
   "cell_type": "code",
   "execution_count": 15,
   "id": "ddfc7fef",
   "metadata": {},
   "outputs": [
    {
     "data": {
      "image/png": "[encoded data removed]",
      "text/plain": [
       "<Figure size 432x288 with 1 Axes>"
      ]
     },
     "metadata": {
      "needs_background": "light"
     },
     "output_type": "display_data"
    }
   ],
   "source": [
    "# Plot the difference between the predicted \n",
    "# values and the actual values by means of \n",
    "# an error plot.\n",
    "# Plot the error for sepal length\n",
    "plt.errorbar(X_test[:,0], y_test, yerr=(y_test - y_pred), fmt='o', ecolor=\"red\");"
   ]
  },
  {
   "cell_type": "markdown",
   "id": "a6df6fce",
   "metadata": {},
   "source": [
    "The error bars seem to be shorter for the species Sertosa than the other species. The model is likely to be more accurate when predicting the species Sertosa. The error bars are much longer for the Virginica species."
   ]
  },
  {
   "cell_type": "code",
   "execution_count": 16,
   "id": "62c26a50",
   "metadata": {},
   "outputs": [
    {
     "data": {
      "image/png": "[encoded data removed]",
      "text/plain": [
       "<Figure size 432x288 with 1 Axes>"
      ]
     },
     "metadata": {
      "needs_background": "light"
     },
     "output_type": "display_data"
    }
   ],
   "source": [
    "# Plot the error bar for sepal width\n",
    "# we need to access all the values at \n",
    "# index 1 of the X variables\n",
    "plt.errorbar(X_test[:,1], y_test, yerr=(y_test - y_pred), fmt = '.k', ecolor= 'red');"
   ]
  },
  {
   "cell_type": "markdown",
   "id": "949e8e61",
   "metadata": {},
   "source": [
    "The error bars are also shorter for the species Sertosa and longer for the Virginica species."
   ]
  },
  {
   "cell_type": "code",
   "execution_count": 17,
   "id": "4b694390",
   "metadata": {},
   "outputs": [
    {
     "data": {
      "image/png": "[encoded data removed]",
      "text/plain": [
       "<Figure size 432x288 with 1 Axes>"
      ]
     },
     "metadata": {
      "needs_background": "light"
     },
     "output_type": "display_data"
    }
   ],
   "source": [
    "# plot the error bar for petal length\n",
    "# We need the values in the colum with\n",
    "# index 2 in X\n",
    "plt.errorbar(X_test[:,2], y_test, yerr=(y_test - y_pred), fmt='.k', ecolor=\"red\");"
   ]
  },
  {
   "cell_type": "markdown",
   "id": "a3b1de6e",
   "metadata": {},
   "source": [
    "When predicting the species using the petal length of the flower, the error bars are also shorter for the species Sertosa and longer for the Virginica species."
   ]
  },
  {
   "cell_type": "code",
   "execution_count": 18,
   "id": "bb7163eb",
   "metadata": {},
   "outputs": [
    {
     "data": {
      "image/png": "[encoded data removed]",
      "text/plain": [
       "<Figure size 432x288 with 1 Axes>"
      ]
     },
     "metadata": {
      "needs_background": "light"
     },
     "output_type": "display_data"
    }
   ],
   "source": [
    "# plot the error bar for petal width\n",
    "# We need to use the x values in the \n",
    "# column indexed at 3 in X.\n",
    "plt.errorbar(X_test[:,3], y_test, yerr=(y_test - y_pred), fmt='.k', ecolor=\"red\");"
   ]
  },
  {
   "cell_type": "markdown",
   "id": "05d3b859",
   "metadata": {},
   "source": [
    "When predicting the species using the petal width of the flower, the error bars are also shorter for the species Sertosa and longer for the Virginica species."
   ]
  },
  {
   "cell_type": "markdown",
   "id": "ef26ade2",
   "metadata": {},
   "source": [
    "In order to find out the accuracy of our regression model, we use the model to predict values of y using trained values of x. If our model is accurate and the predicted y values are equal to the actual y values then the model will have no error. However, if there is a difference between the actual y values and the predicted values then the regression model has an error. In order to measure how bad the error is, in this task i will compute score for the model using Root Mean Squared Error (RMSE) method. To calculate the root mean squared error we have to calculate the mean squared error (MSE) and then calculate the square root of the MSE. "
   ]
  },
  {
   "cell_type": "code",
   "execution_count": 19,
   "id": "317649bb",
   "metadata": {},
   "outputs": [
    {
     "name": "stdout",
     "output_type": "stream",
     "text": [
      "Root Mean Square Error:\n",
      "\n",
      "0.1905518356638924\n"
     ]
    }
   ],
   "source": [
    "# I want to see how well my model can \n",
    "# predict the y values given my X_test values\n",
    "\n",
    "# Use np.subtract function to calculate the difference\n",
    "# between each actual y value and predicted y value\n",
    "\n",
    "diff = np.subtract(y_pred, y_test)\n",
    "\n",
    "# Use np.square function to square the above \n",
    "# differences\n",
    "sq = np.square(diff)\n",
    "\n",
    "# calculate the mean of the squares using \n",
    "# the mean() function\n",
    "MSE = sq.mean()\n",
    "\n",
    "# calculate the square root of MSE to \n",
    "# obtain RMSE\n",
    "RMSE = math.sqrt(MSE)\n",
    "print(\"Root Mean Square Error:\\n\")\n",
    "print(RMSE)"
   ]
  },
  {
   "cell_type": "markdown",
   "id": "8579db08",
   "metadata": {},
   "source": [
    "The RMSE score tells us the average distance between the predicted values from our model and the actual values. A high score indicates that our regression model did not fit the data. Based on multiple answers given to the question 'What is the acceptable value of RMSE?', the lower the RMSE the more accurate the model will predict values."
   ]
  },
  {
   "cell_type": "markdown",
   "id": "ac958aab",
   "metadata": {},
   "source": [
    "Bibliography\n",
    "\n",
    "https://www.britannica.com/science/flower\n",
    "\n",
    "https://stackabuse.com/multiple-linear-regression-with-pyth\n",
    "\n",
    "https://medium.com/analytics-vidhya/linear-regression-using-iris-dataset-hello-world-of-machine-learning-b0feecac9cc1\n",
    "\n",
    "https://www.askpython.com/python/examples/rmse-root-mean-square-error\n",
    "\n",
    "https://www.statology.org/what-is-a-good-rmse/\n",
    "\n",
    "https://www.researchgate.net/post/Whats-the-acceptable-value-of-Root-Mean-Square-Error-RMSE-Sum-of-Squares-due-to-error-SSE-and-Adjusted-R-square#:~:text=Based%20on%20a%20rule%20of,more%20is%20acceptable%20as%20well."
   ]
  }
 ],
 "metadata": {
  "kernelspec": {
   "display_name": "Python 3",
   "language": "python",
   "name": "python3"
  },
  "language_info": {
   "codemirror_mode": {
    "name": "ipython",
    "version": 3
   },
   "file_extension": ".py",
   "mimetype": "text/x-python",
   "name": "python",
   "nbconvert_exporter": "python",
   "pygments_lexer": "ipython3",
   "version": "3.8.8"
  }
 },
 "nbformat": 4,
 "nbformat_minor": 5
}
